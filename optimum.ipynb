{
 "cells": [
  {
   "cell_type": "code",
   "execution_count": null,
   "metadata": {},
   "outputs": [],
   "source": [
    "XTREME_BERT = \"microsoft/xtremedistil-l6-h256-uncased\"\n",
    "PYTHIA_14_M = \"EleutherAI/pythia-14m\"\n",
    "GPT2 = \"openai-community/gpt2\""
   ]
  },
  {
   "cell_type": "code",
   "execution_count": null,
   "metadata": {},
   "outputs": [],
   "source": [
    "model_checkpoint = XTREME_BERT\n",
    "save_directory = f\"models/optimum/{model_checkpoint}\"\n",
    "quant_save_dir = f\"{save_directory}/quant\""
   ]
  },
  {
   "cell_type": "markdown",
   "metadata": {},
   "source": [
    "Hf model to Onnx\n"
   ]
  },
  {
   "cell_type": "code",
   "execution_count": null,
   "metadata": {},
   "outputs": [],
   "source": [
    "from optimum.onnxruntime import ORTModelForSequenceClassification\n",
    "from transformers import AutoTokenizer\n",
    "\n",
    "# Load a model from transformers and export it to ONNX\n",
    "tokenizer = AutoTokenizer.from_pretrained(model_checkpoint)\n",
    "ort_model = ORTModelForSequenceClassification.from_pretrained(\n",
    "    model_checkpoint, export=True\n",
    ")\n",
    "\n",
    "# Save the ONNX model and tokenizer\n",
    "ort_model.save_pretrained(save_directory)\n",
    "tokenizer.save_pretrained(save_directory)"
   ]
  },
  {
   "cell_type": "markdown",
   "metadata": {},
   "source": [
    "Infer Onnx\n"
   ]
  },
  {
   "cell_type": "code",
   "execution_count": null,
   "metadata": {},
   "outputs": [],
   "source": [
    "from transformers import pipeline\n",
    "from optimum.onnxruntime import ORTModelForSequenceClassification\n",
    "\n",
    "\n",
    "def inference(directory, tokenizer, file_name=\"model.onnx\", text=\"My name is Aman and\"):\n",
    "    model = ORTModelForSequenceClassification.from_pretrained(\n",
    "        directory, file_name=file_name\n",
    "    )\n",
    "    generator = pipeline(\"text-classification\", model=model, tokenizer=tokenizer)\n",
    "    output = generator(text, max_length=50)\n",
    "\n",
    "    result = output\n",
    "    # print(result)\n",
    "    return result"
   ]
  },
  {
   "cell_type": "code",
   "execution_count": null,
   "metadata": {},
   "outputs": [],
   "source": [
    "inference(save_directory, tokenizer, \"model.onnx\")"
   ]
  },
  {
   "cell_type": "markdown",
   "metadata": {},
   "source": [
    "Quantize\n"
   ]
  },
  {
   "cell_type": "code",
   "execution_count": null,
   "metadata": {},
   "outputs": [],
   "source": [
    "from optimum.onnxruntime import ORTQuantizer\n",
    "from optimum.onnxruntime.configuration import AutoQuantizationConfig\n",
    "\n",
    "quantizer = ORTQuantizer.from_pretrained(save_directory)\n",
    "\n",
    "dqconfig = AutoQuantizationConfig.arm64(is_static=False, per_channel=False)\n",
    "\n",
    "model_quantized_path = quantizer.quantize(\n",
    "    save_dir=quant_save_dir,\n",
    "    quantization_config=dqconfig,\n",
    ")"
   ]
  },
  {
   "cell_type": "code",
   "execution_count": null,
   "metadata": {},
   "outputs": [],
   "source": [
    "inference(quant_save_dir, tokenizer, \"model_quantized.onnx\")"
   ]
  }
 ],
 "metadata": {
  "kernelspec": {
   "display_name": "Python 3",
   "language": "python",
   "name": "python3"
  },
  "language_info": {
   "codemirror_mode": {
    "name": "ipython",
    "version": 3
   },
   "file_extension": ".py",
   "mimetype": "text/x-python",
   "name": "python",
   "nbconvert_exporter": "python",
   "pygments_lexer": "ipython3",
   "version": "3.11.9"
  }
 },
 "nbformat": 4,
 "nbformat_minor": 2
}
